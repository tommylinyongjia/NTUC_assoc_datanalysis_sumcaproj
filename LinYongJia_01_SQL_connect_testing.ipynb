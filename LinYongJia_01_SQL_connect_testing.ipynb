{
 "cells": [
  {
   "cell_type": "code",
   "execution_count": 1,
   "id": "0e2bc756",
   "metadata": {},
   "outputs": [],
   "source": [
    "import pandas as pd \n",
    "import sys\n",
    "import pyodbc as odbc"
   ]
  },
  {
   "cell_type": "code",
   "execution_count": 2,
   "id": "98120d0e",
   "metadata": {},
   "outputs": [],
   "source": [
    "cnxn = odbc.connect('Driver={SQL Server};'\n",
    "                    'Server=DESKTOP-S40OV4H;'\n",
    "                    'Database=Sum_capstone_proj;'\n",
    "                    'Trusted_Connection=yes;')"
   ]
  },
  {
   "cell_type": "code",
   "execution_count": 4,
   "id": "158b6645",
   "metadata": {},
   "outputs": [],
   "source": [
    "cursor = cnxn.cursor()"
   ]
  },
  {
   "cell_type": "code",
   "execution_count": 13,
   "id": "b8671937",
   "metadata": {},
   "outputs": [],
   "source": [
    "#Create Table of scaled input values - head 50k rows\n",
    "#Note - CANNOT put too many attributes, had to cut down by removing no longer needed attributes\n",
    "cursor.execute('''\n",
    "                CREATE TABLE diamonds_shuf69sclnzparm_50k\n",
    "                (depth_scaled float,\n",
    "                 table_scaled float,\n",
    "                 cut_scaled float,\n",
    "                 color_scaled float,\n",
    "                 clarity_scaled float,\n",
    "                 carat_scaled float,\n",
    "                 price_USD float,\n",
    "                 index_org float,\n",
    "                )\n",
    "''')\n",
    "cnxn.commit()"
   ]
  },
  {
   "cell_type": "code",
   "execution_count": 9,
   "id": "11237d61",
   "metadata": {},
   "outputs": [],
   "source": [
    "#Create Table of scaled input values - tail 3940 rows\n",
    "#Note - CANNOT put too many attributes, had to cut down by removing no longer needed attributes\n",
    "cursor.execute('''\n",
    "                CREATE TABLE diamonds_shuf69sclnzparm_tail_3940\n",
    "                (depth_scaled float,\n",
    "                 table_scaled float,\n",
    "                 cut_scaled float,\n",
    "                 color_scaled float,\n",
    "                 clarity_scaled float,\n",
    "                 carat_scaled float,\n",
    "                 price_USD float,\n",
    "                 index_org float,\n",
    "                )\n",
    "''')\n",
    "cnxn.commit()"
   ]
  },
  {
   "cell_type": "code",
   "execution_count": 14,
   "id": "78bfabaf",
   "metadata": {},
   "outputs": [],
   "source": [
    "#Create Parameter_Score_Table\n",
    "cursor.execute('''\n",
    "                CREATE TABLE ML_Parameter_Score_05oct\n",
    "                (Model text,\n",
    "                 Training_Time_40k_rows float,\n",
    "                 Test_Time_10k_rows float,\n",
    "                 Train_r2_score float,\n",
    "                 Test_r2_score float,\n",
    "                 Test_MSE float,\n",
    "                 Test_MAE float,\n",
    "                )\n",
    "''')\n",
    "cnxn.commit()"
   ]
  },
  {
   "cell_type": "code",
   "execution_count": 15,
   "id": "a9fcc0f1",
   "metadata": {},
   "outputs": [],
   "source": [
    "#Create Parameter_Score_Table\n",
    "cursor.execute('''\n",
    "                CREATE TABLE ML_Predictions_Score_05oct\n",
    "                (Model text,\n",
    "                 Prediction_Time_3940_rows float,\n",
    "                 Prediction_r2 float,\n",
    "                 Prediction_MSE float,\n",
    "                 Prediction_MAE float,\n",
    "                )\n",
    "''')\n",
    "cnxn.commit()"
   ]
  },
  {
   "cell_type": "code",
   "execution_count": 18,
   "id": "7a6acf5f",
   "metadata": {},
   "outputs": [
    {
     "data": {
      "text/html": [
       "<div>\n",
       "<style scoped>\n",
       "    .dataframe tbody tr th:only-of-type {\n",
       "        vertical-align: middle;\n",
       "    }\n",
       "\n",
       "    .dataframe tbody tr th {\n",
       "        vertical-align: top;\n",
       "    }\n",
       "\n",
       "    .dataframe thead th {\n",
       "        text-align: right;\n",
       "    }\n",
       "</style>\n",
       "<table border=\"1\" class=\"dataframe\">\n",
       "  <thead>\n",
       "    <tr style=\"text-align: right;\">\n",
       "      <th></th>\n",
       "      <th>Model</th>\n",
       "      <th>Training_Time_40k_rows</th>\n",
       "      <th>Test_Time_10k_rows</th>\n",
       "      <th>Train_r2_score</th>\n",
       "      <th>Test_r2_score</th>\n",
       "      <th>Test_MSE</th>\n",
       "      <th>Test_MAE</th>\n",
       "    </tr>\n",
       "  </thead>\n",
       "  <tbody>\n",
       "    <tr>\n",
       "      <th>0</th>\n",
       "      <td>LinearRegression</td>\n",
       "      <td>0.006981</td>\n",
       "      <td>0.002963</td>\n",
       "      <td>0.905271</td>\n",
       "      <td>0.899860</td>\n",
       "      <td>1.560525e+06</td>\n",
       "      <td>859.529029</td>\n",
       "    </tr>\n",
       "    <tr>\n",
       "      <th>1</th>\n",
       "      <td>RandomForestRegressor(MSE)</td>\n",
       "      <td>6.758118</td>\n",
       "      <td>0.229131</td>\n",
       "      <td>0.997200</td>\n",
       "      <td>0.981471</td>\n",
       "      <td>2.887520e+05</td>\n",
       "      <td>276.953759</td>\n",
       "    </tr>\n",
       "    <tr>\n",
       "      <th>2</th>\n",
       "      <td>RandomForestRegressor(MAE)</td>\n",
       "      <td>669.721569</td>\n",
       "      <td>0.219202</td>\n",
       "      <td>0.996932</td>\n",
       "      <td>0.982073</td>\n",
       "      <td>2.793685e+05</td>\n",
       "      <td>274.169625</td>\n",
       "    </tr>\n",
       "    <tr>\n",
       "      <th>3</th>\n",
       "      <td>KNeighborsRegressor(n=08,weights=distance)</td>\n",
       "      <td>0.078691</td>\n",
       "      <td>0.290651</td>\n",
       "      <td>0.999809</td>\n",
       "      <td>0.963943</td>\n",
       "      <td>5.618965e+05</td>\n",
       "      <td>405.214472</td>\n",
       "    </tr>\n",
       "    <tr>\n",
       "      <th>4</th>\n",
       "      <td>KNeighborsRegressor(n=08,weights=uniform)</td>\n",
       "      <td>0.086803</td>\n",
       "      <td>0.282770</td>\n",
       "      <td>0.968564</td>\n",
       "      <td>0.959160</td>\n",
       "      <td>6.364276e+05</td>\n",
       "      <td>451.148425</td>\n",
       "    </tr>\n",
       "  </tbody>\n",
       "</table>\n",
       "</div>"
      ],
      "text/plain": [
       "                                        Model  Training_Time_40k_rows  \\\n",
       "0                            LinearRegression                0.006981   \n",
       "1                  RandomForestRegressor(MSE)                6.758118   \n",
       "2                  RandomForestRegressor(MAE)              669.721569   \n",
       "3  KNeighborsRegressor(n=08,weights=distance)                0.078691   \n",
       "4   KNeighborsRegressor(n=08,weights=uniform)                0.086803   \n",
       "\n",
       "   Test_Time_10k_rows  Train_r2_score  Test_r2_score      Test_MSE    Test_MAE  \n",
       "0            0.002963        0.905271       0.899860  1.560525e+06  859.529029  \n",
       "1            0.229131        0.997200       0.981471  2.887520e+05  276.953759  \n",
       "2            0.219202        0.996932       0.982073  2.793685e+05  274.169625  \n",
       "3            0.290651        0.999809       0.963943  5.618965e+05  405.214472  \n",
       "4            0.282770        0.968564       0.959160  6.364276e+05  451.148425  "
      ]
     },
     "execution_count": 18,
     "metadata": {},
     "output_type": "execute_result"
    }
   ],
   "source": [
    "#Read the consolidated Parameter score table, read straight from SQL\n",
    "dataset=pd.read_sql_query('SELECT * FROM ML_Parameter_Score_05oct', cnxn)\n",
    "dataset"
   ]
  },
  {
   "cell_type": "code",
   "execution_count": null,
   "id": "5625e5b6",
   "metadata": {},
   "outputs": [],
   "source": []
  }
 ],
 "metadata": {
  "kernelspec": {
   "display_name": "Python 3",
   "language": "python",
   "name": "python3"
  },
  "language_info": {
   "codemirror_mode": {
    "name": "ipython",
    "version": 3
   },
   "file_extension": ".py",
   "mimetype": "text/x-python",
   "name": "python",
   "nbconvert_exporter": "python",
   "pygments_lexer": "ipython3",
   "version": "3.8.8"
  }
 },
 "nbformat": 4,
 "nbformat_minor": 5
}
